{
 "cells": [
  {
   "cell_type": "markdown",
   "metadata": {},
   "source": [
    "# tf.constant\n",
    "\n",
    "**tf.constant:** is a function used to create a constant tensor, which is a type of tensor that holds a constant value throughout its lifetime. The value of a constant tensor is set at creation time and cannot be changed later."
   ]
  },
  {
   "cell_type": "markdown",
   "metadata": {},
   "source": [
    "* **Tensors:** are multi-dimensional arrays.\n",
    "* **Arrays:** are ordered, mutable and sequential data-structure."
   ]
  },
  {
   "cell_type": "markdown",
   "metadata": {},
   "source": [
    "**Zero-Dimensional Tensor:** also known as scalar. Shape is Zero or No Shape.\n",
    "\n",
    "```python\n",
    "Examples:\n",
    "3, 4, 88, 6\n",
    "```\n"
   ]
  },
  {
   "cell_type": "code",
   "execution_count": 15,
   "metadata": {},
   "outputs": [
    {
     "name": "stdout",
     "output_type": "stream",
     "text": [
      "tf.Tensor(3, shape=(), dtype=int32)\n"
     ]
    }
   ],
   "source": [
    "import tensorflow as tf\n",
    "\n",
    "zero_dimensional_tensor = tf.constant(value=3)\n",
    "print(zero_dimensional_tensor)"
   ]
  },
  {
   "cell_type": "markdown",
   "metadata": {},
   "source": [
    "**1-Dimensional Tensor:** contains multiple Zero-Dimensional Tensor. Shape: (m, ) m ➾ total number of rows, No columns.\n",
    "```python\n",
    "Examples:\n",
    "[3, 4, 88, 6]\n",
    "```"
   ]
  },
  {
   "cell_type": "code",
   "execution_count": 16,
   "metadata": {},
   "outputs": [
    {
     "name": "stdout",
     "output_type": "stream",
     "text": [
      "tf.Tensor([ 3  4 88  6], shape=(4,), dtype=int32)\n"
     ]
    }
   ],
   "source": [
    "one_dimensional_tensor = tf.constant(value=[3, 4, 88, 6])\n",
    "print(one_dimensional_tensor)"
   ]
  },
  {
   "cell_type": "markdown",
   "metadata": {},
   "source": [
    "**2-Dimensional Tensor:** contains multiple 1-Dimensional Tensor. Shape: `(m,n)` **m** ➾ total number of rows, **n** ➾ total number of columns.\n",
    "```python\n",
    "[3, 4, 5, 6]\n",
    "[4, 5, 6, 7]\n",
    "[5, 6, 7, 8]\n",
    "[6, 7, 8, 9]\n",
    "```"
   ]
  },
  {
   "cell_type": "code",
   "execution_count": 17,
   "metadata": {},
   "outputs": [
    {
     "name": "stdout",
     "output_type": "stream",
     "text": [
      "tf.Tensor(\n",
      "[[3 4 5 6]\n",
      " [4 5 6 7]\n",
      " [5 6 7 8]\n",
      " [6 7 8 9]], shape=(4, 4), dtype=int32)\n"
     ]
    }
   ],
   "source": [
    "two_dimensional_tensor = tf.constant(value=[[3, 4, 5, 6], [4, 5, 6, 7], [5, 6, 7, 8], [6, 7, 8, 9]])\n",
    "print(two_dimensional_tensor)"
   ]
  },
  {
   "cell_type": "markdown",
   "metadata": {},
   "source": [
    "**3-Dimensional Tensor:** contains multiple 2-Dimensional Tensor.\n",
    "```python\n",
    "[\n",
    "   [[3, 4, 5, 6]\n",
    "    [4, 5, 6, 7]\n",
    "    [5, 6, 7, 8]\n",
    "    [6, 7, 8, 9]],\n",
    "\n",
    "   [[3, 4, 5, 6]\n",
    "    [4, 5, 6, 7]\n",
    "    [5, 6, 7, 8]\n",
    "    [6, 7, 8, 9]]\n",
    "]\n",
    "```"
   ]
  },
  {
   "cell_type": "code",
   "execution_count": 19,
   "metadata": {},
   "outputs": [
    {
     "name": "stdout",
     "output_type": "stream",
     "text": [
      "tf.Tensor(\n",
      "[[[3 4 5 6]\n",
      "  [4 5 6 7]\n",
      "  [5 6 7 8]\n",
      "  [6 7 8 9]]\n",
      "\n",
      " [[3 4 5 6]\n",
      "  [4 5 6 7]\n",
      "  [5 6 7 8]\n",
      "  [6 7 8 9]]], shape=(2, 4, 4), dtype=int32)\n"
     ]
    }
   ],
   "source": [
    "three_dimensional_tensor = tf.constant(value=[\n",
    "    [[3, 4, 5, 6], [4, 5, 6, 7], [5, 6, 7, 8], [6, 7, 8, 9]],\n",
    "    [[3, 4, 5, 6], [4, 5, 6, 7], [5, 6, 7, 8], [6, 7, 8, 9]]\n",
    "])\n",
    "print(three_dimensional_tensor)"
   ]
  },
  {
   "cell_type": "markdown",
   "metadata": {},
   "source": [
    "**4-Dimensional Tensor:** contains multiple 3-Dimensional Tensor.\n",
    "```python\n",
    "[\n",
    "   [[3, 4, 5, 6]\n",
    "    [4, 5, 6, 7]\n",
    "    [5, 6, 7, 8]\n",
    "    [6, 7, 8, 9],\n",
    "\n",
    "    [3, 4, 5, 6]\n",
    "    [4, 5, 6, 7]\n",
    "    [5, 6, 7, 8]\n",
    "    [6, 7, 8, 9]],\n",
    "\n",
    "    [[3, 4, 5, 6]\n",
    "    [4, 5, 6, 7]\n",
    "    [5, 6, 7, 8]\n",
    "    [6, 7, 8, 9],\n",
    "\n",
    "    [3, 4, 5, 6]\n",
    "    [4, 5, 6, 7]\n",
    "    [5, 6, 7, 8]\n",
    "    [6, 7, 8, 9]]\n",
    "]\n",
    "```"
   ]
  },
  {
   "cell_type": "code",
   "execution_count": 23,
   "metadata": {},
   "outputs": [
    {
     "name": "stdout",
     "output_type": "stream",
     "text": [
      "tf.Tensor(\n",
      "[[[[3 4 5 6]\n",
      "   [4 5 6 7]\n",
      "   [5 6 7 8]\n",
      "   [6 7 8 9]]\n",
      "\n",
      "  [[3 4 5 6]\n",
      "   [4 5 6 7]\n",
      "   [5 6 7 8]\n",
      "   [6 7 8 9]]]\n",
      "\n",
      "\n",
      " [[[3 4 5 6]\n",
      "   [4 5 6 7]\n",
      "   [5 6 7 8]\n",
      "   [6 7 8 9]]\n",
      "\n",
      "  [[3 4 5 6]\n",
      "   [4 5 6 7]\n",
      "   [5 6 7 8]\n",
      "   [6 7 8 9]]]], shape=(2, 2, 4, 4), dtype=int32)\n"
     ]
    }
   ],
   "source": [
    "four_dimensional_tensor = tf.constant(value=[\n",
    "    [[[3, 4, 5, 6], [4, 5, 6, 7], [5, 6, 7, 8], [6, 7, 8, 9]],\n",
    "     [[3, 4, 5, 6], [4, 5, 6, 7], [5, 6, 7, 8], [6, 7, 8, 9]]],\n",
    "\n",
    "     [[[3, 4, 5, 6], [4, 5, 6, 7], [5, 6, 7, 8], [6, 7, 8, 9]],\n",
    "     [[3, 4, 5, 6], [4, 5, 6, 7], [5, 6, 7, 8], [6, 7, 8, 9]]],\n",
    "])\n",
    "print(four_dimensional_tensor)"
   ]
  },
  {
   "cell_type": "markdown",
   "metadata": {},
   "source": [
    "# tf.cast\n",
    "**tf.cast:** is a function used to cast a tensor from one data type to another. It doesn't change the underlying value, but it changes the interpretation of the data."
   ]
  },
  {
   "cell_type": "code",
   "execution_count": 29,
   "metadata": {},
   "outputs": [
    {
     "name": "stdout",
     "output_type": "stream",
     "text": [
      "tf.Tensor([23 45  0  5  9  0], shape=(6,), dtype=int32)\n",
      "tf.Tensor([23. 45.  0.  5.  9.  0.], shape=(6,), dtype=float16)\n",
      "tf.Tensor([ True  True False  True  True False], shape=(6,), dtype=bool)\n"
     ]
    }
   ],
   "source": [
    "new_tensor = tf.constant(value=[23,45,00,5,9,0])\n",
    "print(new_tensor)\n",
    "\n",
    "casted_to_float = tf.cast(x=new_tensor, dtype=tf.float16)\n",
    "print(casted_to_float)\n",
    "\n",
    "casted_to_bool = tf.cast(x=new_tensor, dtype=tf.bool)\n",
    "print(casted_to_bool)\n"
   ]
  },
  {
   "cell_type": "markdown",
   "metadata": {},
   "source": [
    "# Indexing"
   ]
  },
  {
   "cell_type": "code",
   "execution_count": 30,
   "metadata": {},
   "outputs": [
    {
     "name": "stdout",
     "output_type": "stream",
     "text": [
      "tf.Tensor([23 45  0  5  9  0], shape=(6,), dtype=int32)\n"
     ]
    }
   ],
   "source": [
    "new_tensor = tf.constant(value=[23,45,00,5,9,0])\n",
    "print(new_tensor)"
   ]
  },
  {
   "cell_type": "code",
   "execution_count": 31,
   "metadata": {},
   "outputs": [
    {
     "data": {
      "text/plain": [
       "<tf.Tensor: shape=(), dtype=int32, numpy=23>"
      ]
     },
     "execution_count": 31,
     "metadata": {},
     "output_type": "execute_result"
    }
   ],
   "source": [
    "new_tensor[0]"
   ]
  },
  {
   "cell_type": "code",
   "execution_count": 32,
   "metadata": {},
   "outputs": [
    {
     "data": {
      "text/plain": [
       "<tf.Tensor: shape=(), dtype=int32, numpy=5>"
      ]
     },
     "execution_count": 32,
     "metadata": {},
     "output_type": "execute_result"
    }
   ],
   "source": [
    "new_tensor[3]"
   ]
  },
  {
   "cell_type": "markdown",
   "metadata": {},
   "source": [
    "# Slicing"
   ]
  },
  {
   "cell_type": "code",
   "execution_count": 33,
   "metadata": {},
   "outputs": [
    {
     "data": {
      "text/plain": [
       "<tf.Tensor: shape=(6,), dtype=int32, numpy=array([23, 45,  0,  5,  9,  0], dtype=int32)>"
      ]
     },
     "execution_count": 33,
     "metadata": {},
     "output_type": "execute_result"
    }
   ],
   "source": [
    "new_tensor[:]"
   ]
  },
  {
   "cell_type": "code",
   "execution_count": 34,
   "metadata": {},
   "outputs": [
    {
     "data": {
      "text/plain": [
       "<tf.Tensor: shape=(3,), dtype=int32, numpy=array([23,  0,  9], dtype=int32)>"
      ]
     },
     "execution_count": 34,
     "metadata": {},
     "output_type": "execute_result"
    }
   ],
   "source": [
    "new_tensor[::2]"
   ]
  },
  {
   "cell_type": "code",
   "execution_count": null,
   "metadata": {},
   "outputs": [],
   "source": []
  }
 ],
 "metadata": {
  "kernelspec": {
   "display_name": "Python 3",
   "language": "python",
   "name": "python3"
  },
  "language_info": {
   "codemirror_mode": {
    "name": "ipython",
    "version": 3
   },
   "file_extension": ".py",
   "mimetype": "text/x-python",
   "name": "python",
   "nbconvert_exporter": "python",
   "pygments_lexer": "ipython3",
   "version": "3.11.7"
  }
 },
 "nbformat": 4,
 "nbformat_minor": 2
}
