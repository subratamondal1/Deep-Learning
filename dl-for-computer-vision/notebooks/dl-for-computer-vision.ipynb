{
 "cells": [
  {
   "cell_type": "markdown",
   "id": "84a3613b-d84a-4dfb-a185-365913a7d4c4",
   "metadata": {},
   "source": [
    "<h1 align=\"center\">Foundations</h1>\n",
    "\n",
    "---"
   ]
  },
  {
   "cell_type": "markdown",
   "id": "307aaf24-cb4f-4018-8cb4-dbef208d1649",
   "metadata": {},
   "source": [
    "<h2 align=\"left\">Chapter 1 - \n",
    "Introduction to Computer Vision</21>"
   ]
  },
  {
   "cell_type": "markdown",
   "id": "244eeefc-12f6-4955-900a-40ceb054b748",
   "metadata": {},
   "source": [
    "Computer Vision, often abbreviated as CV, is defined as a field of study that seeks to develop \n",
    "techniques to help computers see and understand the content o  digital images such as pho\u0002tographs and videos. The problem of computer visio  appears simple because it is triviall \r\n",
    "solved by people, even very you g children. Nevertheless, it largely remains an unsolved probl m\r\n",
    "based both on  he limited understanding of biological vision and because of the complexity of\r\n",
    "vision perception in a dynamic and nearly infinitely varying physical world."
   ]
  },
  {
   "cell_type": "markdown",
   "id": "a3912a37-388d-437c-98a5-39eeb2d1b515",
   "metadata": {},
   "source": [
    "<h3 align=\"left\">Desire for Computers to See</h3>"
   ]
  },
  {
   "cell_type": "markdown",
   "id": "e8f4529d-297b-4cb4-9680-105cd3246549",
   "metadata": {},
   "source": [
    "We are awash in images. Smartphones have cameras, and taking a photo or video and sharing it has never been easier, resulting in the incredible growth of modern social networks like Instagram. YouTube might be the second largest search engine and hundreds of hours of video are uploaded every minute and billions of videos are watched every day. \n",
    "\n",
    "The internet is comprised of text and images. It is relatively straightforward to index and search text, but in order to index and search images, algorithms need to know what the images contain. For the longest time, the content of images and video has remained opaque, best described using the meta descriptions provided by the person that uploaded them. To get the most out of image data, we need computers to “see” an image and understand the content. This is a trivial problem for a human, even young children.\n",
    "\n",
    "* A person can describe the content of a photograph they have seen once.\n",
    "* A person can summarize a video that they have only seen once.\r",
    "* A person can recognize a face that they have only seen once before.\n",
    "\n",
    "We require at least the same capabilities from computers in order to unlock our images and \n",
    "videos."
   ]
  },
  {
   "cell_type": "markdown",
   "id": "4a62c3e5-cfb1-4a80-9f5f-e8deeece34d7",
   "metadata": {},
   "source": [
    "<h3 align=\"left\">What Is Computer Vision</h3>"
   ]
  },
  {
   "cell_type": "markdown",
   "id": "5ba2dab3-762d-47ea-bc9d-8c93d563b55a",
   "metadata": {},
   "source": [
    "Computer vision is a field of study focused on the problem of helping computers to see. It is a multidisciplinary field that could broadly be called a subfield of artificial intelligence \n",
    "and machine learning, which may involve the use o  specialized methods and make use of genera \r\n",
    "learning algorithm\n",
    "\n",
    "As a multidisciplinary area of study, it can look messy, with techniques borrowed and reused \n",
    "from a range of disparate engineering and computer scienc  fields. One particular problem i \r\n",
    "vision may be easily addressed with a had-crafted statistical method, whereas another m y\r\n",
    "require a large and comp ex ensemble of generalized machine learning algoriths.\r",
    "s.\r"
   ]
  },
  {
   "cell_type": "markdown",
   "id": "84d18822-32b9-4283-9111-35cf6c9fa196",
   "metadata": {},
   "source": [
    "<h3 align=\"left\">Computer Vision and Image Processing</h3>\n",
    "\n",
    "Computer vision is distinct from image processing. Image processing is the process of creating a new image from an existing image, typically simplifying or enhancing the content in some way. It is a type of digital signal processing and is not concerned with understanding the content of an image. A given computer vision system may require image processing to be applied to raw input, e.g. preprocessing images. Examples of image processing include:\n",
    "\n",
    "* **Normalizing** photometric properties of the image, such as brightness or color.\n",
    "* **Cropping** the bounds of the image, such as centering an object in a photograph.\n",
    "* **Removing** digital noise from an image, such as digital artifacts from low light levels."
   ]
  },
  {
   "cell_type": "markdown",
   "id": "d34f668b-8acd-4898-a2a6-f82820099351",
   "metadata": {},
   "source": [
    "<h3 align=\"left\">Tasks in Computer Vision</h3>\n",
    "The 2010 textbook on computer vision titled Computer Vision: Algorithms and Applications provides a list of some high-level problems where we have seen success with computer vision.\n",
    "\n",
    "* Optical character recognition (OCR)\n",
    "* Machine inspection\n",
    "* Retail (e.g. automated checkouts)\n",
    "* 3D model building (photogrammetry)\n",
    "* Medical imaging\n",
    "* Automotive safety\n",
    "* Match move (e.g. merging CGI with live actors in movies)\n",
    "* Motion capture (mocap)\n",
    "* Surveillance\n",
    "* Fingerprint recognition and biometrics\n",
    "\n",
    "Many popular computer vision applications involve trying to recognize things in photographs; for example:\n",
    "\n",
    "* **Object Classification:** What broad category of object is in this photograph?\n",
    "* **Object Identification:** Which type of a given object is in this photograph\n",
    "* **Object Verification:** Is the object in the photograph?\n",
    "* **Object Detection:** Where are the objects in the photograph?\n",
    "* **Object Landmark Detection:** What are the key points for the object in the photograph?\n",
    "* **Object Segmentation:** What pixels belong to the object in the image?\n",
    "* **Object Recognition:** What objects are in this photograph and where are they?\n",
    "\n",
    "Other common examples are related to information retrieval; for example: finding new \n",
    "images like an existing image or images."
   ]
  },
  {
   "cell_type": "markdown",
   "id": "fd703b98-7bf8-44cc-b736-fb8fb486fbee",
   "metadata": {},
   "source": [
    "<h2 align=\"center\">Chapter 2 - \n",
    "Promise of Deep Learning fo \r\n",
    "Computer Vision</h2>"
   ]
  },
  {
   "cell_type": "markdown",
   "id": "bf904e32-a4d1-49bf-aaec-51ed91a54e89",
   "metadata": {},
   "source": [
    "The promise of deep learning in the field of computer vision is better performance by models \n",
    "that may require more data but less digital signa  processing expertise to train and operate \r\n",
    "There is a lot of hype and lar e claims around deep learning methods, but beyond the hyp ,\r\n",
    "deep learning meth ds are achieving state-of-the-art results on challenging problems. Notab y, \n",
    "on computer vision tasks such as image classification, object recognition, and  ace detection."
   ]
  },
  {
   "cell_type": "markdown",
   "id": "e62aa18e-5fdc-41c5-b0cb-1b783f2723e1",
   "metadata": {},
   "source": [
    "<h3 align=\"left\">Promises of Deep Learning</h3>\n",
    "\n",
    "Deep learning methods are popular, primarily because they are delivering on their promise. That is not to say that there is no hype around the technology, but that the hype is based on very real results that are being demonstrated across a suite of very challenging artificial intelligence problems from computer vision and natural language processing. Some of the first large demonstrations of the power of deep learning were in computer vision, specifically image recognition. More recently in object detection and face recognition. In this tutorial, we will look at five specific promises of deep learning methods in the field of computer vision. In summary, they are:\n",
    "\n",
    "* **The Promise of Automatic Feature Extraction:** Features can be automatically learned and extracted from raw image data.\n",
    "* **The Promise of End-to-End Models:** Single end-to-end models can replace pipelines of specialized models.\n",
    "* **The Promise of Model Reuse:** Learned features and even entire models can be reused across tasks.\n",
    "* **The Promise of Superior Performance:** Techniques demonstrate better skill on challenging tasks.\n",
    "* **The Promise of General Method:** A single general method can be used on a range of related tasks."
   ]
  },
  {
   "cell_type": "markdown",
   "id": "5f713f94-b058-437a-bd62-d90a0f7c2821",
   "metadata": {},
   "source": [
    "<h2 align=\"center\">Chapter 3 - How to Develop Deep Learning Models \n",
    "With Kera\r",
    "</h2>"
   ]
  },
  {
   "cell_type": "markdown",
   "id": "f4ba1817-a816-4116-8e98-933c361db197",
   "metadata": {},
   "source": [
    "Deep learning neural networks are very easy to create and evaluate in Python with Keras, but \n",
    "you must follow a strict model life-cycle. In this chapter yo  will discover the step-by-ste \r\n",
    "life-cycle for creating, training and evaluati g deep learning neural networks in Keras and h w\r\n",
    "to make predictions wit  a trained model. You will also discover how to use the functional  PI\r\n",
    "that provides more flexibility when designing models."
   ]
  },
  {
   "cell_type": "markdown",
   "id": "44801759-712b-4d27-9568-994ec2a96969",
   "metadata": {},
   "source": [
    "<h3 align=\"left\">Keras Model Life-Cycle</h3>\n",
    "Below is an overview of the 5 steps in the neural network model life-cycle in Keras:\n",
    "\n",
    "1. **Define Network.**\n",
    "2. **Compile Network.**\n",
    "3. **Fit Network.**\n",
    "4. **Evaluate Network.**\n",
    "5. **Make Predictions.**"
   ]
  },
  {
   "cell_type": "markdown",
   "id": "baca29ef-1163-4b01-ba73-f81f51efd779",
   "metadata": {},
   "source": [
    "<h3 align=\"left\">1. Define Network.</h3>\n",
    "\n",
    "The first step is to define your neural network. Neural networks are defined in Keras as a **sequence of layers**. The container for these layers is the **`Sequential`** class. Create an instance of the Sequential class. Then you can create your layers and add them in the order that they should be connected. For example, we can do this in two steps:"
   ]
  }
 ],
 "metadata": {
  "kernelspec": {
   "display_name": "Python 3 (ipykernel)",
   "language": "python",
   "name": "python3"
  },
  "language_info": {
   "codemirror_mode": {
    "name": "ipython",
    "version": 3
   },
   "file_extension": ".py",
   "mimetype": "text/x-python",
   "name": "python",
   "nbconvert_exporter": "python",
   "pygments_lexer": "ipython3",
   "version": "3.12.1"
  },
  "widgets": {
   "application/vnd.jupyter.widget-state+json": {
    "state": {},
    "version_major": 2,
    "version_minor": 0
   }
  }
 },
 "nbformat": 4,
 "nbformat_minor": 5
}
